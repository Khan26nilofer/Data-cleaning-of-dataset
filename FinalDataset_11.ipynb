{
  "nbformat": 4,
  "nbformat_minor": 0,
  "metadata": {
    "colab": {
      "provenance": [],
      "authorship_tag": "ABX9TyPoSW1RuSzP1ygq2CDDR12A",
      "include_colab_link": true
    },
    "kernelspec": {
      "name": "python3",
      "display_name": "Python 3"
    },
    "language_info": {
      "name": "python"
    }
  },
  "cells": [
    {
      "cell_type": "markdown",
      "metadata": {
        "id": "view-in-github",
        "colab_type": "text"
      },
      "source": [
        "<a href=\"https://colab.research.google.com/github/Khan26nilofer/Data-cleaning-of-dataset/blob/main/FinalDataset_11.ipynb\" target=\"_parent\"><img src=\"https://colab.research.google.com/assets/colab-badge.svg\" alt=\"Open In Colab\"/></a>"
      ]
    },
    {
      "cell_type": "code",
      "execution_count": null,
      "metadata": {
        "id": "goqO3i9q82eh"
      },
      "outputs": [],
      "source": [
        "import numpy as np\n",
        "import pandas as pd\n"
      ]
    },
    {
      "cell_type": "code",
      "source": [
        "data = pd.read_csv(\"/content/Data-cleaning-for-beginners-using-pandas.csv\")"
      ],
      "metadata": {
        "id": "M3VCmAyJCZMq"
      },
      "execution_count": null,
      "outputs": []
    },
    {
      "cell_type": "code",
      "source": [
        "data.head()"
      ],
      "metadata": {
        "colab": {
          "base_uri": "https://localhost:8080/",
          "height": 206
        },
        "id": "Iprmkr_xEdAD",
        "outputId": "be588718-56e5-42e9-814a-9141aa981128"
      },
      "execution_count": null,
      "outputs": [
        {
          "output_type": "execute_result",
          "data": {
            "text/plain": [
              "   Index   Age     Salary  Rating       Location  Established Easy Apply\n",
              "0      0  44.0  $44k-$99k     5.4       India,In         1999       TRUE\n",
              "1      1  66.0  $55k-$66k     3.5    New York,Ny         2002       TRUE\n",
              "2      2   NaN  $77k-$89k    -1.0    New York,Ny           -1         -1\n",
              "3      3  64.0  $44k-$99k     4.4       India In         1988         -1\n",
              "4      4  25.0  $44k-$99k     6.4  Australia Aus         2002         -1"
            ],
            "text/html": [
              "\n",
              "  <div id=\"df-22da2240-9fe3-4096-a996-a16b9fd2cb12\" class=\"colab-df-container\">\n",
              "    <div>\n",
              "<style scoped>\n",
              "    .dataframe tbody tr th:only-of-type {\n",
              "        vertical-align: middle;\n",
              "    }\n",
              "\n",
              "    .dataframe tbody tr th {\n",
              "        vertical-align: top;\n",
              "    }\n",
              "\n",
              "    .dataframe thead th {\n",
              "        text-align: right;\n",
              "    }\n",
              "</style>\n",
              "<table border=\"1\" class=\"dataframe\">\n",
              "  <thead>\n",
              "    <tr style=\"text-align: right;\">\n",
              "      <th></th>\n",
              "      <th>Index</th>\n",
              "      <th>Age</th>\n",
              "      <th>Salary</th>\n",
              "      <th>Rating</th>\n",
              "      <th>Location</th>\n",
              "      <th>Established</th>\n",
              "      <th>Easy Apply</th>\n",
              "    </tr>\n",
              "  </thead>\n",
              "  <tbody>\n",
              "    <tr>\n",
              "      <th>0</th>\n",
              "      <td>0</td>\n",
              "      <td>44.0</td>\n",
              "      <td>$44k-$99k</td>\n",
              "      <td>5.4</td>\n",
              "      <td>India,In</td>\n",
              "      <td>1999</td>\n",
              "      <td>TRUE</td>\n",
              "    </tr>\n",
              "    <tr>\n",
              "      <th>1</th>\n",
              "      <td>1</td>\n",
              "      <td>66.0</td>\n",
              "      <td>$55k-$66k</td>\n",
              "      <td>3.5</td>\n",
              "      <td>New York,Ny</td>\n",
              "      <td>2002</td>\n",
              "      <td>TRUE</td>\n",
              "    </tr>\n",
              "    <tr>\n",
              "      <th>2</th>\n",
              "      <td>2</td>\n",
              "      <td>NaN</td>\n",
              "      <td>$77k-$89k</td>\n",
              "      <td>-1.0</td>\n",
              "      <td>New York,Ny</td>\n",
              "      <td>-1</td>\n",
              "      <td>-1</td>\n",
              "    </tr>\n",
              "    <tr>\n",
              "      <th>3</th>\n",
              "      <td>3</td>\n",
              "      <td>64.0</td>\n",
              "      <td>$44k-$99k</td>\n",
              "      <td>4.4</td>\n",
              "      <td>India In</td>\n",
              "      <td>1988</td>\n",
              "      <td>-1</td>\n",
              "    </tr>\n",
              "    <tr>\n",
              "      <th>4</th>\n",
              "      <td>4</td>\n",
              "      <td>25.0</td>\n",
              "      <td>$44k-$99k</td>\n",
              "      <td>6.4</td>\n",
              "      <td>Australia Aus</td>\n",
              "      <td>2002</td>\n",
              "      <td>-1</td>\n",
              "    </tr>\n",
              "  </tbody>\n",
              "</table>\n",
              "</div>\n",
              "    <div class=\"colab-df-buttons\">\n",
              "\n",
              "  <div class=\"colab-df-container\">\n",
              "    <button class=\"colab-df-convert\" onclick=\"convertToInteractive('df-22da2240-9fe3-4096-a996-a16b9fd2cb12')\"\n",
              "            title=\"Convert this dataframe to an interactive table.\"\n",
              "            style=\"display:none;\">\n",
              "\n",
              "  <svg xmlns=\"http://www.w3.org/2000/svg\" height=\"24px\" viewBox=\"0 -960 960 960\">\n",
              "    <path d=\"M120-120v-720h720v720H120Zm60-500h600v-160H180v160Zm220 220h160v-160H400v160Zm0 220h160v-160H400v160ZM180-400h160v-160H180v160Zm440 0h160v-160H620v160ZM180-180h160v-160H180v160Zm440 0h160v-160H620v160Z\"/>\n",
              "  </svg>\n",
              "    </button>\n",
              "\n",
              "  <style>\n",
              "    .colab-df-container {\n",
              "      display:flex;\n",
              "      gap: 12px;\n",
              "    }\n",
              "\n",
              "    .colab-df-convert {\n",
              "      background-color: #E8F0FE;\n",
              "      border: none;\n",
              "      border-radius: 50%;\n",
              "      cursor: pointer;\n",
              "      display: none;\n",
              "      fill: #1967D2;\n",
              "      height: 32px;\n",
              "      padding: 0 0 0 0;\n",
              "      width: 32px;\n",
              "    }\n",
              "\n",
              "    .colab-df-convert:hover {\n",
              "      background-color: #E2EBFA;\n",
              "      box-shadow: 0px 1px 2px rgba(60, 64, 67, 0.3), 0px 1px 3px 1px rgba(60, 64, 67, 0.15);\n",
              "      fill: #174EA6;\n",
              "    }\n",
              "\n",
              "    .colab-df-buttons div {\n",
              "      margin-bottom: 4px;\n",
              "    }\n",
              "\n",
              "    [theme=dark] .colab-df-convert {\n",
              "      background-color: #3B4455;\n",
              "      fill: #D2E3FC;\n",
              "    }\n",
              "\n",
              "    [theme=dark] .colab-df-convert:hover {\n",
              "      background-color: #434B5C;\n",
              "      box-shadow: 0px 1px 3px 1px rgba(0, 0, 0, 0.15);\n",
              "      filter: drop-shadow(0px 1px 2px rgba(0, 0, 0, 0.3));\n",
              "      fill: #FFFFFF;\n",
              "    }\n",
              "  </style>\n",
              "\n",
              "    <script>\n",
              "      const buttonEl =\n",
              "        document.querySelector('#df-22da2240-9fe3-4096-a996-a16b9fd2cb12 button.colab-df-convert');\n",
              "      buttonEl.style.display =\n",
              "        google.colab.kernel.accessAllowed ? 'block' : 'none';\n",
              "\n",
              "      async function convertToInteractive(key) {\n",
              "        const element = document.querySelector('#df-22da2240-9fe3-4096-a996-a16b9fd2cb12');\n",
              "        const dataTable =\n",
              "          await google.colab.kernel.invokeFunction('convertToInteractive',\n",
              "                                                    [key], {});\n",
              "        if (!dataTable) return;\n",
              "\n",
              "        const docLinkHtml = 'Like what you see? Visit the ' +\n",
              "          '<a target=\"_blank\" href=https://colab.research.google.com/notebooks/data_table.ipynb>data table notebook</a>'\n",
              "          + ' to learn more about interactive tables.';\n",
              "        element.innerHTML = '';\n",
              "        dataTable['output_type'] = 'display_data';\n",
              "        await google.colab.output.renderOutput(dataTable, element);\n",
              "        const docLink = document.createElement('div');\n",
              "        docLink.innerHTML = docLinkHtml;\n",
              "        element.appendChild(docLink);\n",
              "      }\n",
              "    </script>\n",
              "  </div>\n",
              "\n",
              "\n",
              "<div id=\"df-a36922d7-04d1-4916-ac0f-21d88185cf29\">\n",
              "  <button class=\"colab-df-quickchart\" onclick=\"quickchart('df-a36922d7-04d1-4916-ac0f-21d88185cf29')\"\n",
              "            title=\"Suggest charts\"\n",
              "            style=\"display:none;\">\n",
              "\n",
              "<svg xmlns=\"http://www.w3.org/2000/svg\" height=\"24px\"viewBox=\"0 0 24 24\"\n",
              "     width=\"24px\">\n",
              "    <g>\n",
              "        <path d=\"M19 3H5c-1.1 0-2 .9-2 2v14c0 1.1.9 2 2 2h14c1.1 0 2-.9 2-2V5c0-1.1-.9-2-2-2zM9 17H7v-7h2v7zm4 0h-2V7h2v10zm4 0h-2v-4h2v4z\"/>\n",
              "    </g>\n",
              "</svg>\n",
              "  </button>\n",
              "\n",
              "<style>\n",
              "  .colab-df-quickchart {\n",
              "      --bg-color: #E8F0FE;\n",
              "      --fill-color: #1967D2;\n",
              "      --hover-bg-color: #E2EBFA;\n",
              "      --hover-fill-color: #174EA6;\n",
              "      --disabled-fill-color: #AAA;\n",
              "      --disabled-bg-color: #DDD;\n",
              "  }\n",
              "\n",
              "  [theme=dark] .colab-df-quickchart {\n",
              "      --bg-color: #3B4455;\n",
              "      --fill-color: #D2E3FC;\n",
              "      --hover-bg-color: #434B5C;\n",
              "      --hover-fill-color: #FFFFFF;\n",
              "      --disabled-bg-color: #3B4455;\n",
              "      --disabled-fill-color: #666;\n",
              "  }\n",
              "\n",
              "  .colab-df-quickchart {\n",
              "    background-color: var(--bg-color);\n",
              "    border: none;\n",
              "    border-radius: 50%;\n",
              "    cursor: pointer;\n",
              "    display: none;\n",
              "    fill: var(--fill-color);\n",
              "    height: 32px;\n",
              "    padding: 0;\n",
              "    width: 32px;\n",
              "  }\n",
              "\n",
              "  .colab-df-quickchart:hover {\n",
              "    background-color: var(--hover-bg-color);\n",
              "    box-shadow: 0 1px 2px rgba(60, 64, 67, 0.3), 0 1px 3px 1px rgba(60, 64, 67, 0.15);\n",
              "    fill: var(--button-hover-fill-color);\n",
              "  }\n",
              "\n",
              "  .colab-df-quickchart-complete:disabled,\n",
              "  .colab-df-quickchart-complete:disabled:hover {\n",
              "    background-color: var(--disabled-bg-color);\n",
              "    fill: var(--disabled-fill-color);\n",
              "    box-shadow: none;\n",
              "  }\n",
              "\n",
              "  .colab-df-spinner {\n",
              "    border: 2px solid var(--fill-color);\n",
              "    border-color: transparent;\n",
              "    border-bottom-color: var(--fill-color);\n",
              "    animation:\n",
              "      spin 1s steps(1) infinite;\n",
              "  }\n",
              "\n",
              "  @keyframes spin {\n",
              "    0% {\n",
              "      border-color: transparent;\n",
              "      border-bottom-color: var(--fill-color);\n",
              "      border-left-color: var(--fill-color);\n",
              "    }\n",
              "    20% {\n",
              "      border-color: transparent;\n",
              "      border-left-color: var(--fill-color);\n",
              "      border-top-color: var(--fill-color);\n",
              "    }\n",
              "    30% {\n",
              "      border-color: transparent;\n",
              "      border-left-color: var(--fill-color);\n",
              "      border-top-color: var(--fill-color);\n",
              "      border-right-color: var(--fill-color);\n",
              "    }\n",
              "    40% {\n",
              "      border-color: transparent;\n",
              "      border-right-color: var(--fill-color);\n",
              "      border-top-color: var(--fill-color);\n",
              "    }\n",
              "    60% {\n",
              "      border-color: transparent;\n",
              "      border-right-color: var(--fill-color);\n",
              "    }\n",
              "    80% {\n",
              "      border-color: transparent;\n",
              "      border-right-color: var(--fill-color);\n",
              "      border-bottom-color: var(--fill-color);\n",
              "    }\n",
              "    90% {\n",
              "      border-color: transparent;\n",
              "      border-bottom-color: var(--fill-color);\n",
              "    }\n",
              "  }\n",
              "</style>\n",
              "\n",
              "  <script>\n",
              "    async function quickchart(key) {\n",
              "      const quickchartButtonEl =\n",
              "        document.querySelector('#' + key + ' button');\n",
              "      quickchartButtonEl.disabled = true;  // To prevent multiple clicks.\n",
              "      quickchartButtonEl.classList.add('colab-df-spinner');\n",
              "      try {\n",
              "        const charts = await google.colab.kernel.invokeFunction(\n",
              "            'suggestCharts', [key], {});\n",
              "      } catch (error) {\n",
              "        console.error('Error during call to suggestCharts:', error);\n",
              "      }\n",
              "      quickchartButtonEl.classList.remove('colab-df-spinner');\n",
              "      quickchartButtonEl.classList.add('colab-df-quickchart-complete');\n",
              "    }\n",
              "    (() => {\n",
              "      let quickchartButtonEl =\n",
              "        document.querySelector('#df-a36922d7-04d1-4916-ac0f-21d88185cf29 button');\n",
              "      quickchartButtonEl.style.display =\n",
              "        google.colab.kernel.accessAllowed ? 'block' : 'none';\n",
              "    })();\n",
              "  </script>\n",
              "</div>\n",
              "\n",
              "    </div>\n",
              "  </div>\n"
            ]
          },
          "metadata": {},
          "execution_count": 64
        }
      ]
    },
    {
      "cell_type": "code",
      "source": [],
      "metadata": {
        "id": "gSA_2WaTfY81"
      },
      "execution_count": null,
      "outputs": []
    },
    {
      "cell_type": "code",
      "source": [
        "data.tail()"
      ],
      "metadata": {
        "colab": {
          "base_uri": "https://localhost:8080/",
          "height": 206
        },
        "id": "b3FR5aLfEc2V",
        "outputId": "8f375f4f-a1a7-4902-f282-2ba6da051e9e"
      },
      "execution_count": null,
      "outputs": [
        {
          "output_type": "execute_result",
          "data": {
            "text/plain": [
              "    Index   Age     Salary  Rating       Location  Established Easy Apply\n",
              "24     24  13.0  $44k-$99k    -1.0    New York,Ny         1987         -1\n",
              "25     25  55.0  $44k-$99k     0.0  Australia Aus         1980       TRUE\n",
              "26     26   NaN  $55k-$66k     NaN       India,In         1934       TRUE\n",
              "27     27  52.0  $44k-$99k     5.4       India,In         1935         -1\n",
              "28     28   NaN  $39k-$88k     3.4  Australia Aus         1932         -1"
            ],
            "text/html": [
              "\n",
              "  <div id=\"df-287801d4-419c-4a0a-9e41-ea269c1d0b08\" class=\"colab-df-container\">\n",
              "    <div>\n",
              "<style scoped>\n",
              "    .dataframe tbody tr th:only-of-type {\n",
              "        vertical-align: middle;\n",
              "    }\n",
              "\n",
              "    .dataframe tbody tr th {\n",
              "        vertical-align: top;\n",
              "    }\n",
              "\n",
              "    .dataframe thead th {\n",
              "        text-align: right;\n",
              "    }\n",
              "</style>\n",
              "<table border=\"1\" class=\"dataframe\">\n",
              "  <thead>\n",
              "    <tr style=\"text-align: right;\">\n",
              "      <th></th>\n",
              "      <th>Index</th>\n",
              "      <th>Age</th>\n",
              "      <th>Salary</th>\n",
              "      <th>Rating</th>\n",
              "      <th>Location</th>\n",
              "      <th>Established</th>\n",
              "      <th>Easy Apply</th>\n",
              "    </tr>\n",
              "  </thead>\n",
              "  <tbody>\n",
              "    <tr>\n",
              "      <th>24</th>\n",
              "      <td>24</td>\n",
              "      <td>13.0</td>\n",
              "      <td>$44k-$99k</td>\n",
              "      <td>-1.0</td>\n",
              "      <td>New York,Ny</td>\n",
              "      <td>1987</td>\n",
              "      <td>-1</td>\n",
              "    </tr>\n",
              "    <tr>\n",
              "      <th>25</th>\n",
              "      <td>25</td>\n",
              "      <td>55.0</td>\n",
              "      <td>$44k-$99k</td>\n",
              "      <td>0.0</td>\n",
              "      <td>Australia Aus</td>\n",
              "      <td>1980</td>\n",
              "      <td>TRUE</td>\n",
              "    </tr>\n",
              "    <tr>\n",
              "      <th>26</th>\n",
              "      <td>26</td>\n",
              "      <td>NaN</td>\n",
              "      <td>$55k-$66k</td>\n",
              "      <td>NaN</td>\n",
              "      <td>India,In</td>\n",
              "      <td>1934</td>\n",
              "      <td>TRUE</td>\n",
              "    </tr>\n",
              "    <tr>\n",
              "      <th>27</th>\n",
              "      <td>27</td>\n",
              "      <td>52.0</td>\n",
              "      <td>$44k-$99k</td>\n",
              "      <td>5.4</td>\n",
              "      <td>India,In</td>\n",
              "      <td>1935</td>\n",
              "      <td>-1</td>\n",
              "    </tr>\n",
              "    <tr>\n",
              "      <th>28</th>\n",
              "      <td>28</td>\n",
              "      <td>NaN</td>\n",
              "      <td>$39k-$88k</td>\n",
              "      <td>3.4</td>\n",
              "      <td>Australia Aus</td>\n",
              "      <td>1932</td>\n",
              "      <td>-1</td>\n",
              "    </tr>\n",
              "  </tbody>\n",
              "</table>\n",
              "</div>\n",
              "    <div class=\"colab-df-buttons\">\n",
              "\n",
              "  <div class=\"colab-df-container\">\n",
              "    <button class=\"colab-df-convert\" onclick=\"convertToInteractive('df-287801d4-419c-4a0a-9e41-ea269c1d0b08')\"\n",
              "            title=\"Convert this dataframe to an interactive table.\"\n",
              "            style=\"display:none;\">\n",
              "\n",
              "  <svg xmlns=\"http://www.w3.org/2000/svg\" height=\"24px\" viewBox=\"0 -960 960 960\">\n",
              "    <path d=\"M120-120v-720h720v720H120Zm60-500h600v-160H180v160Zm220 220h160v-160H400v160Zm0 220h160v-160H400v160ZM180-400h160v-160H180v160Zm440 0h160v-160H620v160ZM180-180h160v-160H180v160Zm440 0h160v-160H620v160Z\"/>\n",
              "  </svg>\n",
              "    </button>\n",
              "\n",
              "  <style>\n",
              "    .colab-df-container {\n",
              "      display:flex;\n",
              "      gap: 12px;\n",
              "    }\n",
              "\n",
              "    .colab-df-convert {\n",
              "      background-color: #E8F0FE;\n",
              "      border: none;\n",
              "      border-radius: 50%;\n",
              "      cursor: pointer;\n",
              "      display: none;\n",
              "      fill: #1967D2;\n",
              "      height: 32px;\n",
              "      padding: 0 0 0 0;\n",
              "      width: 32px;\n",
              "    }\n",
              "\n",
              "    .colab-df-convert:hover {\n",
              "      background-color: #E2EBFA;\n",
              "      box-shadow: 0px 1px 2px rgba(60, 64, 67, 0.3), 0px 1px 3px 1px rgba(60, 64, 67, 0.15);\n",
              "      fill: #174EA6;\n",
              "    }\n",
              "\n",
              "    .colab-df-buttons div {\n",
              "      margin-bottom: 4px;\n",
              "    }\n",
              "\n",
              "    [theme=dark] .colab-df-convert {\n",
              "      background-color: #3B4455;\n",
              "      fill: #D2E3FC;\n",
              "    }\n",
              "\n",
              "    [theme=dark] .colab-df-convert:hover {\n",
              "      background-color: #434B5C;\n",
              "      box-shadow: 0px 1px 3px 1px rgba(0, 0, 0, 0.15);\n",
              "      filter: drop-shadow(0px 1px 2px rgba(0, 0, 0, 0.3));\n",
              "      fill: #FFFFFF;\n",
              "    }\n",
              "  </style>\n",
              "\n",
              "    <script>\n",
              "      const buttonEl =\n",
              "        document.querySelector('#df-287801d4-419c-4a0a-9e41-ea269c1d0b08 button.colab-df-convert');\n",
              "      buttonEl.style.display =\n",
              "        google.colab.kernel.accessAllowed ? 'block' : 'none';\n",
              "\n",
              "      async function convertToInteractive(key) {\n",
              "        const element = document.querySelector('#df-287801d4-419c-4a0a-9e41-ea269c1d0b08');\n",
              "        const dataTable =\n",
              "          await google.colab.kernel.invokeFunction('convertToInteractive',\n",
              "                                                    [key], {});\n",
              "        if (!dataTable) return;\n",
              "\n",
              "        const docLinkHtml = 'Like what you see? Visit the ' +\n",
              "          '<a target=\"_blank\" href=https://colab.research.google.com/notebooks/data_table.ipynb>data table notebook</a>'\n",
              "          + ' to learn more about interactive tables.';\n",
              "        element.innerHTML = '';\n",
              "        dataTable['output_type'] = 'display_data';\n",
              "        await google.colab.output.renderOutput(dataTable, element);\n",
              "        const docLink = document.createElement('div');\n",
              "        docLink.innerHTML = docLinkHtml;\n",
              "        element.appendChild(docLink);\n",
              "      }\n",
              "    </script>\n",
              "  </div>\n",
              "\n",
              "\n",
              "<div id=\"df-5d1405e3-386f-4fdc-98f1-7e872e09a7d5\">\n",
              "  <button class=\"colab-df-quickchart\" onclick=\"quickchart('df-5d1405e3-386f-4fdc-98f1-7e872e09a7d5')\"\n",
              "            title=\"Suggest charts\"\n",
              "            style=\"display:none;\">\n",
              "\n",
              "<svg xmlns=\"http://www.w3.org/2000/svg\" height=\"24px\"viewBox=\"0 0 24 24\"\n",
              "     width=\"24px\">\n",
              "    <g>\n",
              "        <path d=\"M19 3H5c-1.1 0-2 .9-2 2v14c0 1.1.9 2 2 2h14c1.1 0 2-.9 2-2V5c0-1.1-.9-2-2-2zM9 17H7v-7h2v7zm4 0h-2V7h2v10zm4 0h-2v-4h2v4z\"/>\n",
              "    </g>\n",
              "</svg>\n",
              "  </button>\n",
              "\n",
              "<style>\n",
              "  .colab-df-quickchart {\n",
              "      --bg-color: #E8F0FE;\n",
              "      --fill-color: #1967D2;\n",
              "      --hover-bg-color: #E2EBFA;\n",
              "      --hover-fill-color: #174EA6;\n",
              "      --disabled-fill-color: #AAA;\n",
              "      --disabled-bg-color: #DDD;\n",
              "  }\n",
              "\n",
              "  [theme=dark] .colab-df-quickchart {\n",
              "      --bg-color: #3B4455;\n",
              "      --fill-color: #D2E3FC;\n",
              "      --hover-bg-color: #434B5C;\n",
              "      --hover-fill-color: #FFFFFF;\n",
              "      --disabled-bg-color: #3B4455;\n",
              "      --disabled-fill-color: #666;\n",
              "  }\n",
              "\n",
              "  .colab-df-quickchart {\n",
              "    background-color: var(--bg-color);\n",
              "    border: none;\n",
              "    border-radius: 50%;\n",
              "    cursor: pointer;\n",
              "    display: none;\n",
              "    fill: var(--fill-color);\n",
              "    height: 32px;\n",
              "    padding: 0;\n",
              "    width: 32px;\n",
              "  }\n",
              "\n",
              "  .colab-df-quickchart:hover {\n",
              "    background-color: var(--hover-bg-color);\n",
              "    box-shadow: 0 1px 2px rgba(60, 64, 67, 0.3), 0 1px 3px 1px rgba(60, 64, 67, 0.15);\n",
              "    fill: var(--button-hover-fill-color);\n",
              "  }\n",
              "\n",
              "  .colab-df-quickchart-complete:disabled,\n",
              "  .colab-df-quickchart-complete:disabled:hover {\n",
              "    background-color: var(--disabled-bg-color);\n",
              "    fill: var(--disabled-fill-color);\n",
              "    box-shadow: none;\n",
              "  }\n",
              "\n",
              "  .colab-df-spinner {\n",
              "    border: 2px solid var(--fill-color);\n",
              "    border-color: transparent;\n",
              "    border-bottom-color: var(--fill-color);\n",
              "    animation:\n",
              "      spin 1s steps(1) infinite;\n",
              "  }\n",
              "\n",
              "  @keyframes spin {\n",
              "    0% {\n",
              "      border-color: transparent;\n",
              "      border-bottom-color: var(--fill-color);\n",
              "      border-left-color: var(--fill-color);\n",
              "    }\n",
              "    20% {\n",
              "      border-color: transparent;\n",
              "      border-left-color: var(--fill-color);\n",
              "      border-top-color: var(--fill-color);\n",
              "    }\n",
              "    30% {\n",
              "      border-color: transparent;\n",
              "      border-left-color: var(--fill-color);\n",
              "      border-top-color: var(--fill-color);\n",
              "      border-right-color: var(--fill-color);\n",
              "    }\n",
              "    40% {\n",
              "      border-color: transparent;\n",
              "      border-right-color: var(--fill-color);\n",
              "      border-top-color: var(--fill-color);\n",
              "    }\n",
              "    60% {\n",
              "      border-color: transparent;\n",
              "      border-right-color: var(--fill-color);\n",
              "    }\n",
              "    80% {\n",
              "      border-color: transparent;\n",
              "      border-right-color: var(--fill-color);\n",
              "      border-bottom-color: var(--fill-color);\n",
              "    }\n",
              "    90% {\n",
              "      border-color: transparent;\n",
              "      border-bottom-color: var(--fill-color);\n",
              "    }\n",
              "  }\n",
              "</style>\n",
              "\n",
              "  <script>\n",
              "    async function quickchart(key) {\n",
              "      const quickchartButtonEl =\n",
              "        document.querySelector('#' + key + ' button');\n",
              "      quickchartButtonEl.disabled = true;  // To prevent multiple clicks.\n",
              "      quickchartButtonEl.classList.add('colab-df-spinner');\n",
              "      try {\n",
              "        const charts = await google.colab.kernel.invokeFunction(\n",
              "            'suggestCharts', [key], {});\n",
              "      } catch (error) {\n",
              "        console.error('Error during call to suggestCharts:', error);\n",
              "      }\n",
              "      quickchartButtonEl.classList.remove('colab-df-spinner');\n",
              "      quickchartButtonEl.classList.add('colab-df-quickchart-complete');\n",
              "    }\n",
              "    (() => {\n",
              "      let quickchartButtonEl =\n",
              "        document.querySelector('#df-5d1405e3-386f-4fdc-98f1-7e872e09a7d5 button');\n",
              "      quickchartButtonEl.style.display =\n",
              "        google.colab.kernel.accessAllowed ? 'block' : 'none';\n",
              "    })();\n",
              "  </script>\n",
              "</div>\n",
              "\n",
              "    </div>\n",
              "  </div>\n"
            ]
          },
          "metadata": {},
          "execution_count": 65
        }
      ]
    },
    {
      "cell_type": "code",
      "source": [
        "data.info()"
      ],
      "metadata": {
        "colab": {
          "base_uri": "https://localhost:8080/"
        },
        "id": "J67XaZGJEcr0",
        "outputId": "f49245c9-6aa0-4d55-f3fe-c493f343bfd7"
      },
      "execution_count": null,
      "outputs": [
        {
          "output_type": "stream",
          "name": "stdout",
          "text": [
            "<class 'pandas.core.frame.DataFrame'>\n",
            "RangeIndex: 29 entries, 0 to 28\n",
            "Data columns (total 7 columns):\n",
            " #   Column       Non-Null Count  Dtype  \n",
            "---  ------       --------------  -----  \n",
            " 0   Index        29 non-null     int64  \n",
            " 1   Age          22 non-null     float64\n",
            " 2   Salary       29 non-null     object \n",
            " 3   Rating       28 non-null     float64\n",
            " 4   Location     29 non-null     object \n",
            " 5   Established  29 non-null     int64  \n",
            " 6   Easy Apply   29 non-null     object \n",
            "dtypes: float64(2), int64(2), object(3)\n",
            "memory usage: 1.7+ KB\n"
          ]
        }
      ]
    },
    {
      "cell_type": "code",
      "source": [
        "data.shape"
      ],
      "metadata": {
        "colab": {
          "base_uri": "https://localhost:8080/"
        },
        "id": "if43Rg3RiXHD",
        "outputId": "dc08c72e-25ec-493d-f150-185906dd1cc4"
      },
      "execution_count": null,
      "outputs": [
        {
          "output_type": "execute_result",
          "data": {
            "text/plain": [
              "(29, 7)"
            ]
          },
          "metadata": {},
          "execution_count": 67
        }
      ]
    },
    {
      "cell_type": "markdown",
      "source": [
        "## missing value"
      ],
      "metadata": {
        "id": "hY5n7EoCB1JJ"
      }
    },
    {
      "cell_type": "code",
      "source": [
        "data.isna().sum()"
      ],
      "metadata": {
        "colab": {
          "base_uri": "https://localhost:8080/"
        },
        "id": "1WGyfBcsEci0",
        "outputId": "8b6df0e8-294b-4f1e-8da9-294a24810c48"
      },
      "execution_count": null,
      "outputs": [
        {
          "output_type": "execute_result",
          "data": {
            "text/plain": [
              "Index          0\n",
              "Age            7\n",
              "Salary         0\n",
              "Rating         1\n",
              "Location       0\n",
              "Established    0\n",
              "Easy Apply     0\n",
              "dtype: int64"
            ]
          },
          "metadata": {},
          "execution_count": 68
        }
      ]
    },
    {
      "cell_type": "code",
      "source": [
        "data.columns"
      ],
      "metadata": {
        "colab": {
          "base_uri": "https://localhost:8080/"
        },
        "id": "4m8mIWBwCQU6",
        "outputId": "6a310da7-2b4d-4ed8-8ed5-ffaca52b4f8c"
      },
      "execution_count": null,
      "outputs": [
        {
          "output_type": "execute_result",
          "data": {
            "text/plain": [
              "Index(['Index', 'Age', 'Salary', 'Rating', 'Location', 'Established',\n",
              "       'Easy Apply'],\n",
              "      dtype='object')"
            ]
          },
          "metadata": {},
          "execution_count": 69
        }
      ]
    },
    {
      "cell_type": "markdown",
      "source": [
        "#convert heading in lower"
      ],
      "metadata": {
        "id": "9YjpzfZsEvSa"
      }
    },
    {
      "cell_type": "code",
      "source": [
        "data.columns.str.lower()"
      ],
      "metadata": {
        "colab": {
          "base_uri": "https://localhost:8080/"
        },
        "id": "jxMjCHq6ABQj",
        "outputId": "3915e548-4c09-485a-f78d-ee715496e650"
      },
      "execution_count": null,
      "outputs": [
        {
          "output_type": "execute_result",
          "data": {
            "text/plain": [
              "Index(['index', 'age', 'salary', 'rating', 'location', 'established',\n",
              "       'easy apply'],\n",
              "      dtype='object')"
            ]
          },
          "metadata": {},
          "execution_count": 70
        }
      ]
    },
    {
      "cell_type": "markdown",
      "source": [
        "#replacing"
      ],
      "metadata": {
        "id": "NWbxXvDUE2ca"
      }
    },
    {
      "cell_type": "code",
      "source": [
        "data.columns = data.columns.str.lower().str.replace(' ','_')"
      ],
      "metadata": {
        "id": "ljnFW9faEEcf"
      },
      "execution_count": null,
      "outputs": []
    },
    {
      "cell_type": "code",
      "source": [
        "data.columns"
      ],
      "metadata": {
        "colab": {
          "base_uri": "https://localhost:8080/"
        },
        "id": "a1-ACZlOCGdr",
        "outputId": "420d23db-b2c5-4972-f9bf-ffc4f9375f0a"
      },
      "execution_count": null,
      "outputs": [
        {
          "output_type": "execute_result",
          "data": {
            "text/plain": [
              "Index(['index', 'age', 'salary', 'rating', 'location', 'established',\n",
              "       'easy_apply'],\n",
              "      dtype='object')"
            ]
          },
          "metadata": {},
          "execution_count": 72
        }
      ]
    },
    {
      "cell_type": "code",
      "source": [
        "data.head()"
      ],
      "metadata": {
        "colab": {
          "base_uri": "https://localhost:8080/",
          "height": 206
        },
        "id": "sOujL-_7EYGz",
        "outputId": "e0656c85-84bc-474b-d96c-300884deb2de"
      },
      "execution_count": null,
      "outputs": [
        {
          "output_type": "execute_result",
          "data": {
            "text/plain": [
              "   index   age     salary  rating       location  established easy_apply\n",
              "0      0  44.0  $44k-$99k     5.4       India,In         1999       TRUE\n",
              "1      1  66.0  $55k-$66k     3.5    New York,Ny         2002       TRUE\n",
              "2      2   NaN  $77k-$89k    -1.0    New York,Ny           -1         -1\n",
              "3      3  64.0  $44k-$99k     4.4       India In         1988         -1\n",
              "4      4  25.0  $44k-$99k     6.4  Australia Aus         2002         -1"
            ],
            "text/html": [
              "\n",
              "  <div id=\"df-badfade7-b0cc-49d3-91f7-2644b643657d\" class=\"colab-df-container\">\n",
              "    <div>\n",
              "<style scoped>\n",
              "    .dataframe tbody tr th:only-of-type {\n",
              "        vertical-align: middle;\n",
              "    }\n",
              "\n",
              "    .dataframe tbody tr th {\n",
              "        vertical-align: top;\n",
              "    }\n",
              "\n",
              "    .dataframe thead th {\n",
              "        text-align: right;\n",
              "    }\n",
              "</style>\n",
              "<table border=\"1\" class=\"dataframe\">\n",
              "  <thead>\n",
              "    <tr style=\"text-align: right;\">\n",
              "      <th></th>\n",
              "      <th>index</th>\n",
              "      <th>age</th>\n",
              "      <th>salary</th>\n",
              "      <th>rating</th>\n",
              "      <th>location</th>\n",
              "      <th>established</th>\n",
              "      <th>easy_apply</th>\n",
              "    </tr>\n",
              "  </thead>\n",
              "  <tbody>\n",
              "    <tr>\n",
              "      <th>0</th>\n",
              "      <td>0</td>\n",
              "      <td>44.0</td>\n",
              "      <td>$44k-$99k</td>\n",
              "      <td>5.4</td>\n",
              "      <td>India,In</td>\n",
              "      <td>1999</td>\n",
              "      <td>TRUE</td>\n",
              "    </tr>\n",
              "    <tr>\n",
              "      <th>1</th>\n",
              "      <td>1</td>\n",
              "      <td>66.0</td>\n",
              "      <td>$55k-$66k</td>\n",
              "      <td>3.5</td>\n",
              "      <td>New York,Ny</td>\n",
              "      <td>2002</td>\n",
              "      <td>TRUE</td>\n",
              "    </tr>\n",
              "    <tr>\n",
              "      <th>2</th>\n",
              "      <td>2</td>\n",
              "      <td>NaN</td>\n",
              "      <td>$77k-$89k</td>\n",
              "      <td>-1.0</td>\n",
              "      <td>New York,Ny</td>\n",
              "      <td>-1</td>\n",
              "      <td>-1</td>\n",
              "    </tr>\n",
              "    <tr>\n",
              "      <th>3</th>\n",
              "      <td>3</td>\n",
              "      <td>64.0</td>\n",
              "      <td>$44k-$99k</td>\n",
              "      <td>4.4</td>\n",
              "      <td>India In</td>\n",
              "      <td>1988</td>\n",
              "      <td>-1</td>\n",
              "    </tr>\n",
              "    <tr>\n",
              "      <th>4</th>\n",
              "      <td>4</td>\n",
              "      <td>25.0</td>\n",
              "      <td>$44k-$99k</td>\n",
              "      <td>6.4</td>\n",
              "      <td>Australia Aus</td>\n",
              "      <td>2002</td>\n",
              "      <td>-1</td>\n",
              "    </tr>\n",
              "  </tbody>\n",
              "</table>\n",
              "</div>\n",
              "    <div class=\"colab-df-buttons\">\n",
              "\n",
              "  <div class=\"colab-df-container\">\n",
              "    <button class=\"colab-df-convert\" onclick=\"convertToInteractive('df-badfade7-b0cc-49d3-91f7-2644b643657d')\"\n",
              "            title=\"Convert this dataframe to an interactive table.\"\n",
              "            style=\"display:none;\">\n",
              "\n",
              "  <svg xmlns=\"http://www.w3.org/2000/svg\" height=\"24px\" viewBox=\"0 -960 960 960\">\n",
              "    <path d=\"M120-120v-720h720v720H120Zm60-500h600v-160H180v160Zm220 220h160v-160H400v160Zm0 220h160v-160H400v160ZM180-400h160v-160H180v160Zm440 0h160v-160H620v160ZM180-180h160v-160H180v160Zm440 0h160v-160H620v160Z\"/>\n",
              "  </svg>\n",
              "    </button>\n",
              "\n",
              "  <style>\n",
              "    .colab-df-container {\n",
              "      display:flex;\n",
              "      gap: 12px;\n",
              "    }\n",
              "\n",
              "    .colab-df-convert {\n",
              "      background-color: #E8F0FE;\n",
              "      border: none;\n",
              "      border-radius: 50%;\n",
              "      cursor: pointer;\n",
              "      display: none;\n",
              "      fill: #1967D2;\n",
              "      height: 32px;\n",
              "      padding: 0 0 0 0;\n",
              "      width: 32px;\n",
              "    }\n",
              "\n",
              "    .colab-df-convert:hover {\n",
              "      background-color: #E2EBFA;\n",
              "      box-shadow: 0px 1px 2px rgba(60, 64, 67, 0.3), 0px 1px 3px 1px rgba(60, 64, 67, 0.15);\n",
              "      fill: #174EA6;\n",
              "    }\n",
              "\n",
              "    .colab-df-buttons div {\n",
              "      margin-bottom: 4px;\n",
              "    }\n",
              "\n",
              "    [theme=dark] .colab-df-convert {\n",
              "      background-color: #3B4455;\n",
              "      fill: #D2E3FC;\n",
              "    }\n",
              "\n",
              "    [theme=dark] .colab-df-convert:hover {\n",
              "      background-color: #434B5C;\n",
              "      box-shadow: 0px 1px 3px 1px rgba(0, 0, 0, 0.15);\n",
              "      filter: drop-shadow(0px 1px 2px rgba(0, 0, 0, 0.3));\n",
              "      fill: #FFFFFF;\n",
              "    }\n",
              "  </style>\n",
              "\n",
              "    <script>\n",
              "      const buttonEl =\n",
              "        document.querySelector('#df-badfade7-b0cc-49d3-91f7-2644b643657d button.colab-df-convert');\n",
              "      buttonEl.style.display =\n",
              "        google.colab.kernel.accessAllowed ? 'block' : 'none';\n",
              "\n",
              "      async function convertToInteractive(key) {\n",
              "        const element = document.querySelector('#df-badfade7-b0cc-49d3-91f7-2644b643657d');\n",
              "        const dataTable =\n",
              "          await google.colab.kernel.invokeFunction('convertToInteractive',\n",
              "                                                    [key], {});\n",
              "        if (!dataTable) return;\n",
              "\n",
              "        const docLinkHtml = 'Like what you see? Visit the ' +\n",
              "          '<a target=\"_blank\" href=https://colab.research.google.com/notebooks/data_table.ipynb>data table notebook</a>'\n",
              "          + ' to learn more about interactive tables.';\n",
              "        element.innerHTML = '';\n",
              "        dataTable['output_type'] = 'display_data';\n",
              "        await google.colab.output.renderOutput(dataTable, element);\n",
              "        const docLink = document.createElement('div');\n",
              "        docLink.innerHTML = docLinkHtml;\n",
              "        element.appendChild(docLink);\n",
              "      }\n",
              "    </script>\n",
              "  </div>\n",
              "\n",
              "\n",
              "<div id=\"df-3142f914-c23e-4dda-ac13-970066008a8d\">\n",
              "  <button class=\"colab-df-quickchart\" onclick=\"quickchart('df-3142f914-c23e-4dda-ac13-970066008a8d')\"\n",
              "            title=\"Suggest charts\"\n",
              "            style=\"display:none;\">\n",
              "\n",
              "<svg xmlns=\"http://www.w3.org/2000/svg\" height=\"24px\"viewBox=\"0 0 24 24\"\n",
              "     width=\"24px\">\n",
              "    <g>\n",
              "        <path d=\"M19 3H5c-1.1 0-2 .9-2 2v14c0 1.1.9 2 2 2h14c1.1 0 2-.9 2-2V5c0-1.1-.9-2-2-2zM9 17H7v-7h2v7zm4 0h-2V7h2v10zm4 0h-2v-4h2v4z\"/>\n",
              "    </g>\n",
              "</svg>\n",
              "  </button>\n",
              "\n",
              "<style>\n",
              "  .colab-df-quickchart {\n",
              "      --bg-color: #E8F0FE;\n",
              "      --fill-color: #1967D2;\n",
              "      --hover-bg-color: #E2EBFA;\n",
              "      --hover-fill-color: #174EA6;\n",
              "      --disabled-fill-color: #AAA;\n",
              "      --disabled-bg-color: #DDD;\n",
              "  }\n",
              "\n",
              "  [theme=dark] .colab-df-quickchart {\n",
              "      --bg-color: #3B4455;\n",
              "      --fill-color: #D2E3FC;\n",
              "      --hover-bg-color: #434B5C;\n",
              "      --hover-fill-color: #FFFFFF;\n",
              "      --disabled-bg-color: #3B4455;\n",
              "      --disabled-fill-color: #666;\n",
              "  }\n",
              "\n",
              "  .colab-df-quickchart {\n",
              "    background-color: var(--bg-color);\n",
              "    border: none;\n",
              "    border-radius: 50%;\n",
              "    cursor: pointer;\n",
              "    display: none;\n",
              "    fill: var(--fill-color);\n",
              "    height: 32px;\n",
              "    padding: 0;\n",
              "    width: 32px;\n",
              "  }\n",
              "\n",
              "  .colab-df-quickchart:hover {\n",
              "    background-color: var(--hover-bg-color);\n",
              "    box-shadow: 0 1px 2px rgba(60, 64, 67, 0.3), 0 1px 3px 1px rgba(60, 64, 67, 0.15);\n",
              "    fill: var(--button-hover-fill-color);\n",
              "  }\n",
              "\n",
              "  .colab-df-quickchart-complete:disabled,\n",
              "  .colab-df-quickchart-complete:disabled:hover {\n",
              "    background-color: var(--disabled-bg-color);\n",
              "    fill: var(--disabled-fill-color);\n",
              "    box-shadow: none;\n",
              "  }\n",
              "\n",
              "  .colab-df-spinner {\n",
              "    border: 2px solid var(--fill-color);\n",
              "    border-color: transparent;\n",
              "    border-bottom-color: var(--fill-color);\n",
              "    animation:\n",
              "      spin 1s steps(1) infinite;\n",
              "  }\n",
              "\n",
              "  @keyframes spin {\n",
              "    0% {\n",
              "      border-color: transparent;\n",
              "      border-bottom-color: var(--fill-color);\n",
              "      border-left-color: var(--fill-color);\n",
              "    }\n",
              "    20% {\n",
              "      border-color: transparent;\n",
              "      border-left-color: var(--fill-color);\n",
              "      border-top-color: var(--fill-color);\n",
              "    }\n",
              "    30% {\n",
              "      border-color: transparent;\n",
              "      border-left-color: var(--fill-color);\n",
              "      border-top-color: var(--fill-color);\n",
              "      border-right-color: var(--fill-color);\n",
              "    }\n",
              "    40% {\n",
              "      border-color: transparent;\n",
              "      border-right-color: var(--fill-color);\n",
              "      border-top-color: var(--fill-color);\n",
              "    }\n",
              "    60% {\n",
              "      border-color: transparent;\n",
              "      border-right-color: var(--fill-color);\n",
              "    }\n",
              "    80% {\n",
              "      border-color: transparent;\n",
              "      border-right-color: var(--fill-color);\n",
              "      border-bottom-color: var(--fill-color);\n",
              "    }\n",
              "    90% {\n",
              "      border-color: transparent;\n",
              "      border-bottom-color: var(--fill-color);\n",
              "    }\n",
              "  }\n",
              "</style>\n",
              "\n",
              "  <script>\n",
              "    async function quickchart(key) {\n",
              "      const quickchartButtonEl =\n",
              "        document.querySelector('#' + key + ' button');\n",
              "      quickchartButtonEl.disabled = true;  // To prevent multiple clicks.\n",
              "      quickchartButtonEl.classList.add('colab-df-spinner');\n",
              "      try {\n",
              "        const charts = await google.colab.kernel.invokeFunction(\n",
              "            'suggestCharts', [key], {});\n",
              "      } catch (error) {\n",
              "        console.error('Error during call to suggestCharts:', error);\n",
              "      }\n",
              "      quickchartButtonEl.classList.remove('colab-df-spinner');\n",
              "      quickchartButtonEl.classList.add('colab-df-quickchart-complete');\n",
              "    }\n",
              "    (() => {\n",
              "      let quickchartButtonEl =\n",
              "        document.querySelector('#df-3142f914-c23e-4dda-ac13-970066008a8d button');\n",
              "      quickchartButtonEl.style.display =\n",
              "        google.colab.kernel.accessAllowed ? 'block' : 'none';\n",
              "    })();\n",
              "  </script>\n",
              "</div>\n",
              "\n",
              "    </div>\n",
              "  </div>\n"
            ]
          },
          "metadata": {},
          "execution_count": 73
        }
      ]
    },
    {
      "cell_type": "markdown",
      "source": [
        "#Age"
      ],
      "metadata": {
        "id": "10b8Onv-G3Nw"
      }
    },
    {
      "cell_type": "code",
      "source": [
        "data['age']"
      ],
      "metadata": {
        "colab": {
          "base_uri": "https://localhost:8080/"
        },
        "id": "LXnD4SfbG7Fr",
        "outputId": "483e2cc0-a9eb-4718-c5c7-f5889c58ebc7"
      },
      "execution_count": null,
      "outputs": [
        {
          "output_type": "execute_result",
          "data": {
            "text/plain": [
              "0     44.0\n",
              "1     66.0\n",
              "2      NaN\n",
              "3     64.0\n",
              "4     25.0\n",
              "5     44.0\n",
              "6     21.0\n",
              "7     44.0\n",
              "8     35.0\n",
              "9     22.0\n",
              "10    55.0\n",
              "11    44.0\n",
              "12     NaN\n",
              "13    25.0\n",
              "14    66.0\n",
              "15    44.0\n",
              "16    19.0\n",
              "17     NaN\n",
              "18    35.0\n",
              "19    32.0\n",
              "20     NaN\n",
              "21    35.0\n",
              "22    19.0\n",
              "23     NaN\n",
              "24    13.0\n",
              "25    55.0\n",
              "26     NaN\n",
              "27    52.0\n",
              "28     NaN\n",
              "Name: age, dtype: float64"
            ]
          },
          "metadata": {},
          "execution_count": 74
        }
      ]
    },
    {
      "cell_type": "code",
      "source": [
        "data.age.mean()"
      ],
      "metadata": {
        "colab": {
          "base_uri": "https://localhost:8080/"
        },
        "id": "JfYepA8tHZzT",
        "outputId": "f9e55820-55c7-443f-8c09-943b8fedb184"
      },
      "execution_count": null,
      "outputs": [
        {
          "output_type": "execute_result",
          "data": {
            "text/plain": [
              "39.04545454545455"
            ]
          },
          "metadata": {},
          "execution_count": 75
        }
      ]
    },
    {
      "cell_type": "code",
      "source": [
        "avg_Age = data.age.mean()"
      ],
      "metadata": {
        "id": "i3yO5VpmKPPg"
      },
      "execution_count": null,
      "outputs": []
    },
    {
      "cell_type": "markdown",
      "source": [
        "#fill avg value"
      ],
      "metadata": {
        "id": "6GnYa1RRFLVa"
      }
    },
    {
      "cell_type": "code",
      "source": [
        "data['age'] = data['age'].fillna(avg_Age)"
      ],
      "metadata": {
        "id": "W3PVCgx4Kjdb"
      },
      "execution_count": null,
      "outputs": []
    },
    {
      "cell_type": "markdown",
      "source": [
        "#round off decimal"
      ],
      "metadata": {
        "id": "Vp58URLRFORy"
      }
    },
    {
      "cell_type": "code",
      "source": [
        "data['age'] = data['age'].fillna(avg_Age)\n",
        "data['age'] = data['age'].round(decimals=1)\n",
        "data['age']\n"
      ],
      "metadata": {
        "colab": {
          "base_uri": "https://localhost:8080/"
        },
        "id": "Rx5yxD-XNU2U",
        "outputId": "d0c8af95-d98e-43f7-cd95-493f9c355284"
      },
      "execution_count": null,
      "outputs": [
        {
          "output_type": "execute_result",
          "data": {
            "text/plain": [
              "0     44.0\n",
              "1     66.0\n",
              "2     39.0\n",
              "3     64.0\n",
              "4     25.0\n",
              "5     44.0\n",
              "6     21.0\n",
              "7     44.0\n",
              "8     35.0\n",
              "9     22.0\n",
              "10    55.0\n",
              "11    44.0\n",
              "12    39.0\n",
              "13    25.0\n",
              "14    66.0\n",
              "15    44.0\n",
              "16    19.0\n",
              "17    39.0\n",
              "18    35.0\n",
              "19    32.0\n",
              "20    39.0\n",
              "21    35.0\n",
              "22    19.0\n",
              "23    39.0\n",
              "24    13.0\n",
              "25    55.0\n",
              "26    39.0\n",
              "27    52.0\n",
              "28    39.0\n",
              "Name: age, dtype: float64"
            ]
          },
          "metadata": {},
          "execution_count": 78
        }
      ]
    },
    {
      "cell_type": "code",
      "source": [
        "data['age'] = data['age'].astype(int)"
      ],
      "metadata": {
        "id": "fhACWOTPTDob"
      },
      "execution_count": null,
      "outputs": []
    },
    {
      "cell_type": "code",
      "source": [
        "data['age']"
      ],
      "metadata": {
        "colab": {
          "base_uri": "https://localhost:8080/"
        },
        "id": "MRPmQpdX7bJp",
        "outputId": "7b7f4648-eb1d-49fe-eaf8-d67bd392d5f0"
      },
      "execution_count": null,
      "outputs": [
        {
          "output_type": "execute_result",
          "data": {
            "text/plain": [
              "0     44\n",
              "1     66\n",
              "2     39\n",
              "3     64\n",
              "4     25\n",
              "5     44\n",
              "6     21\n",
              "7     44\n",
              "8     35\n",
              "9     22\n",
              "10    55\n",
              "11    44\n",
              "12    39\n",
              "13    25\n",
              "14    66\n",
              "15    44\n",
              "16    19\n",
              "17    39\n",
              "18    35\n",
              "19    32\n",
              "20    39\n",
              "21    35\n",
              "22    19\n",
              "23    39\n",
              "24    13\n",
              "25    55\n",
              "26    39\n",
              "27    52\n",
              "28    39\n",
              "Name: age, dtype: int64"
            ]
          },
          "metadata": {},
          "execution_count": 80
        }
      ]
    },
    {
      "cell_type": "markdown",
      "source": [
        "Salary"
      ],
      "metadata": {
        "id": "1OKScRm5P60e"
      }
    },
    {
      "cell_type": "code",
      "source": [
        "data['salary']"
      ],
      "metadata": {
        "colab": {
          "base_uri": "https://localhost:8080/"
        },
        "id": "fJ_pN0q0P8Ym",
        "outputId": "f3bb0075-4101-4474-a729-713cf5c016fd"
      },
      "execution_count": null,
      "outputs": [
        {
          "output_type": "execute_result",
          "data": {
            "text/plain": [
              "0      $44k-$99k\n",
              "1      $55k-$66k\n",
              "2      $77k-$89k\n",
              "3      $44k-$99k\n",
              "4      $44k-$99k\n",
              "5      $77k-$89k\n",
              "6      $44k-$99k\n",
              "7      $44k-$99k\n",
              "8      $44k-$99k\n",
              "9      $44k-$99k\n",
              "10     $10k-$49k\n",
              "11     $10k-$49k\n",
              "12     $44k-$99k\n",
              "13     $44k-$99k\n",
              "14     $44k-$99k\n",
              "15    $88k-$101k\n",
              "16     $19k-$40k\n",
              "17     $44k-$99k\n",
              "18     $44k-$99k\n",
              "19     $44k-$99k\n",
              "20     $44k-$99k\n",
              "21     $44k-$99k\n",
              "22     $55k-$66k\n",
              "23     $44k-$99k\n",
              "24     $44k-$99k\n",
              "25     $44k-$99k\n",
              "26     $55k-$66k\n",
              "27     $44k-$99k\n",
              "28     $39k-$88k\n",
              "Name: salary, dtype: object"
            ]
          },
          "metadata": {},
          "execution_count": 81
        }
      ]
    },
    {
      "cell_type": "markdown",
      "source": [
        "#replacing $"
      ],
      "metadata": {
        "id": "Srrrmvx_FpmC"
      }
    },
    {
      "cell_type": "code",
      "source": [
        "data['salary'] = data['salary'].apply(lambda x:x.replace('$',''))"
      ],
      "metadata": {
        "id": "o6Df5vBdQLS-"
      },
      "execution_count": null,
      "outputs": []
    },
    {
      "cell_type": "code",
      "source": [
        "data['salary']"
      ],
      "metadata": {
        "colab": {
          "base_uri": "https://localhost:8080/"
        },
        "id": "sMwnyw-EGz4f",
        "outputId": "8fbf029f-9af3-4150-df02-398ae08944ad"
      },
      "execution_count": null,
      "outputs": [
        {
          "output_type": "execute_result",
          "data": {
            "text/plain": [
              "0      44k-99k\n",
              "1      55k-66k\n",
              "2      77k-89k\n",
              "3      44k-99k\n",
              "4      44k-99k\n",
              "5      77k-89k\n",
              "6      44k-99k\n",
              "7      44k-99k\n",
              "8      44k-99k\n",
              "9      44k-99k\n",
              "10     10k-49k\n",
              "11     10k-49k\n",
              "12     44k-99k\n",
              "13     44k-99k\n",
              "14     44k-99k\n",
              "15    88k-101k\n",
              "16     19k-40k\n",
              "17     44k-99k\n",
              "18     44k-99k\n",
              "19     44k-99k\n",
              "20     44k-99k\n",
              "21     44k-99k\n",
              "22     55k-66k\n",
              "23     44k-99k\n",
              "24     44k-99k\n",
              "25     44k-99k\n",
              "26     55k-66k\n",
              "27     44k-99k\n",
              "28     39k-88k\n",
              "Name: salary, dtype: object"
            ]
          },
          "metadata": {},
          "execution_count": 83
        }
      ]
    },
    {
      "cell_type": "code",
      "source": [
        "data['salary'] = data.salary.str.lower().str.replace('k','000')"
      ],
      "metadata": {
        "id": "1_IJGdVyHGSO"
      },
      "execution_count": null,
      "outputs": []
    },
    {
      "cell_type": "code",
      "source": [
        "data['salary']"
      ],
      "metadata": {
        "colab": {
          "base_uri": "https://localhost:8080/"
        },
        "id": "Ox5RVZyGJtGZ",
        "outputId": "883266a2-cca8-4c9b-abd3-2b0f6b93be98"
      },
      "execution_count": null,
      "outputs": [
        {
          "output_type": "execute_result",
          "data": {
            "text/plain": [
              "0      44000-99000\n",
              "1      55000-66000\n",
              "2      77000-89000\n",
              "3      44000-99000\n",
              "4      44000-99000\n",
              "5      77000-89000\n",
              "6      44000-99000\n",
              "7      44000-99000\n",
              "8      44000-99000\n",
              "9      44000-99000\n",
              "10     10000-49000\n",
              "11     10000-49000\n",
              "12     44000-99000\n",
              "13     44000-99000\n",
              "14     44000-99000\n",
              "15    88000-101000\n",
              "16     19000-40000\n",
              "17     44000-99000\n",
              "18     44000-99000\n",
              "19     44000-99000\n",
              "20     44000-99000\n",
              "21     44000-99000\n",
              "22     55000-66000\n",
              "23     44000-99000\n",
              "24     44000-99000\n",
              "25     44000-99000\n",
              "26     55000-66000\n",
              "27     44000-99000\n",
              "28     39000-88000\n",
              "Name: salary, dtype: object"
            ]
          },
          "metadata": {},
          "execution_count": 85
        }
      ]
    },
    {
      "cell_type": "markdown",
      "source": [
        "#Location"
      ],
      "metadata": {
        "id": "eQfS7DqhOpeB"
      }
    },
    {
      "cell_type": "code",
      "source": [
        "data['location']"
      ],
      "metadata": {
        "id": "JTFXB2r4MuaD",
        "colab": {
          "base_uri": "https://localhost:8080/"
        },
        "outputId": "1a620012-8815-4a34-970e-1d6bdb8a2226"
      },
      "execution_count": null,
      "outputs": [
        {
          "output_type": "execute_result",
          "data": {
            "text/plain": [
              "0          India,In\n",
              "1       New York,Ny\n",
              "2       New York,Ny\n",
              "3          India In\n",
              "4     Australia Aus\n",
              "5          India,In\n",
              "6       New York,Ny\n",
              "7     Australia Aus\n",
              "8       New York,Ny\n",
              "9          India,In\n",
              "10         India,In\n",
              "11         India,In\n",
              "12         India,In\n",
              "13    Australia Aus\n",
              "14    Australia Aus\n",
              "15    Australia Aus\n",
              "16         India,In\n",
              "17      New York,Ny\n",
              "18      New York,Ny\n",
              "19      New York,Ny\n",
              "20      New York,Ny\n",
              "21      New York,Ny\n",
              "22      New York,Ny\n",
              "23      New York,Ny\n",
              "24      New York,Ny\n",
              "25    Australia Aus\n",
              "26         India,In\n",
              "27         India,In\n",
              "28    Australia Aus\n",
              "Name: location, dtype: object"
            ]
          },
          "metadata": {},
          "execution_count": 86
        }
      ]
    },
    {
      "cell_type": "code",
      "source": [
        "data['location'] = data.location.str.replace('India,In','India')\n",
        "data['location'] = data.location.str.replace('Australia Aus','Australia')\n",
        "data['location'] = data.location.str.replace('New York,Ny','New York')"
      ],
      "metadata": {
        "id": "7BfRo4sQO3rB"
      },
      "execution_count": null,
      "outputs": []
    },
    {
      "cell_type": "code",
      "source": [
        "data['location']"
      ],
      "metadata": {
        "colab": {
          "base_uri": "https://localhost:8080/"
        },
        "id": "zoiTyHH7Qqhg",
        "outputId": "6302c1bd-24c3-450c-8ce9-f5307cc41d68"
      },
      "execution_count": null,
      "outputs": [
        {
          "output_type": "execute_result",
          "data": {
            "text/plain": [
              "0         India\n",
              "1      New York\n",
              "2      New York\n",
              "3      India In\n",
              "4     Australia\n",
              "5         India\n",
              "6      New York\n",
              "7     Australia\n",
              "8      New York\n",
              "9         India\n",
              "10        India\n",
              "11        India\n",
              "12        India\n",
              "13    Australia\n",
              "14    Australia\n",
              "15    Australia\n",
              "16        India\n",
              "17     New York\n",
              "18     New York\n",
              "19     New York\n",
              "20     New York\n",
              "21     New York\n",
              "22     New York\n",
              "23     New York\n",
              "24     New York\n",
              "25    Australia\n",
              "26        India\n",
              "27        India\n",
              "28    Australia\n",
              "Name: location, dtype: object"
            ]
          },
          "metadata": {},
          "execution_count": 88
        }
      ]
    },
    {
      "cell_type": "markdown",
      "source": [
        "#established"
      ],
      "metadata": {
        "id": "HkSfhnlBqmNy"
      }
    },
    {
      "cell_type": "code",
      "source": [
        "data.established"
      ],
      "metadata": {
        "colab": {
          "base_uri": "https://localhost:8080/"
        },
        "id": "RLcsRvA4q2ZS",
        "outputId": "ebefeae4-9163-44bf-8b60-d4a1f7c6ebdf"
      },
      "execution_count": null,
      "outputs": [
        {
          "output_type": "execute_result",
          "data": {
            "text/plain": [
              "0     1999\n",
              "1     2002\n",
              "2       -1\n",
              "3     1988\n",
              "4     2002\n",
              "5     1999\n",
              "6       -1\n",
              "7       -1\n",
              "8       -1\n",
              "9       -1\n",
              "10    2008\n",
              "11    2009\n",
              "12    1999\n",
              "13    2019\n",
              "14    2020\n",
              "15    1999\n",
              "16    1984\n",
              "17    1943\n",
              "18    1954\n",
              "19    1955\n",
              "20    1944\n",
              "21    1946\n",
              "22    1988\n",
              "23    1999\n",
              "24    1987\n",
              "25    1980\n",
              "26    1934\n",
              "27    1935\n",
              "28    1932\n",
              "Name: established, dtype: int64"
            ]
          },
          "metadata": {},
          "execution_count": 89
        }
      ]
    },
    {
      "cell_type": "code",
      "source": [
        "data['established'] = data['established'].replace(-1, np.nan)\n"
      ],
      "metadata": {
        "id": "4iQwMfQ_q51n"
      },
      "execution_count": null,
      "outputs": []
    },
    {
      "cell_type": "code",
      "source": [
        "data['established']"
      ],
      "metadata": {
        "colab": {
          "base_uri": "https://localhost:8080/"
        },
        "id": "hHEcqjMqq_wg",
        "outputId": "bb54e94e-d223-43f1-c0dc-ad659d003005"
      },
      "execution_count": null,
      "outputs": [
        {
          "output_type": "execute_result",
          "data": {
            "text/plain": [
              "0     1999.0\n",
              "1     2002.0\n",
              "2        NaN\n",
              "3     1988.0\n",
              "4     2002.0\n",
              "5     1999.0\n",
              "6        NaN\n",
              "7        NaN\n",
              "8        NaN\n",
              "9        NaN\n",
              "10    2008.0\n",
              "11    2009.0\n",
              "12    1999.0\n",
              "13    2019.0\n",
              "14    2020.0\n",
              "15    1999.0\n",
              "16    1984.0\n",
              "17    1943.0\n",
              "18    1954.0\n",
              "19    1955.0\n",
              "20    1944.0\n",
              "21    1946.0\n",
              "22    1988.0\n",
              "23    1999.0\n",
              "24    1987.0\n",
              "25    1980.0\n",
              "26    1934.0\n",
              "27    1935.0\n",
              "28    1932.0\n",
              "Name: established, dtype: float64"
            ]
          },
          "metadata": {},
          "execution_count": 91
        }
      ]
    },
    {
      "cell_type": "code",
      "source": [
        "data['established'] = pd.to_numeric(data['established'], errors='coerce')\n",
        "data['established'] = data['established'].astype('Int64')"
      ],
      "metadata": {
        "id": "feyHclbN8Eh_"
      },
      "execution_count": null,
      "outputs": []
    },
    {
      "cell_type": "code",
      "source": [
        "data['established']"
      ],
      "metadata": {
        "colab": {
          "base_uri": "https://localhost:8080/"
        },
        "id": "FPStvGv187Xh",
        "outputId": "b7f922ab-99bc-41fd-d744-30cb34593864"
      },
      "execution_count": null,
      "outputs": [
        {
          "output_type": "execute_result",
          "data": {
            "text/plain": [
              "0     1999\n",
              "1     2002\n",
              "2     <NA>\n",
              "3     1988\n",
              "4     2002\n",
              "5     1999\n",
              "6     <NA>\n",
              "7     <NA>\n",
              "8     <NA>\n",
              "9     <NA>\n",
              "10    2008\n",
              "11    2009\n",
              "12    1999\n",
              "13    2019\n",
              "14    2020\n",
              "15    1999\n",
              "16    1984\n",
              "17    1943\n",
              "18    1954\n",
              "19    1955\n",
              "20    1944\n",
              "21    1946\n",
              "22    1988\n",
              "23    1999\n",
              "24    1987\n",
              "25    1980\n",
              "26    1934\n",
              "27    1935\n",
              "28    1932\n",
              "Name: established, dtype: Int64"
            ]
          },
          "metadata": {},
          "execution_count": 93
        }
      ]
    },
    {
      "cell_type": "markdown",
      "source": [
        "#Easy apply"
      ],
      "metadata": {
        "id": "7v0jcmqRes6I"
      }
    },
    {
      "cell_type": "code",
      "source": [
        "data['easy_apply']"
      ],
      "metadata": {
        "colab": {
          "base_uri": "https://localhost:8080/"
        },
        "id": "nr53t50bfSsm",
        "outputId": "5228a168-1b24-4d0b-e319-81eedceef8fe"
      },
      "execution_count": null,
      "outputs": [
        {
          "output_type": "execute_result",
          "data": {
            "text/plain": [
              "0     TRUE\n",
              "1     TRUE\n",
              "2       -1\n",
              "3       -1\n",
              "4       -1\n",
              "5     TRUE\n",
              "6       -1\n",
              "7       -1\n",
              "8       -1\n",
              "9     TRUE\n",
              "10    TRUE\n",
              "11      -1\n",
              "12      -1\n",
              "13    TRUE\n",
              "14    TRUE\n",
              "15      -1\n",
              "16      -1\n",
              "17    TRUE\n",
              "18    TRUE\n",
              "19    TRUE\n",
              "20    TRUE\n",
              "21      -1\n",
              "22    TRUE\n",
              "23    TRUE\n",
              "24      -1\n",
              "25    TRUE\n",
              "26    TRUE\n",
              "27      -1\n",
              "28      -1\n",
              "Name: easy_apply, dtype: object"
            ]
          },
          "metadata": {},
          "execution_count": 94
        }
      ]
    },
    {
      "cell_type": "code",
      "source": [
        "data['easy_apply'] = data['easy_apply'].str.replace('-1','False')"
      ],
      "metadata": {
        "id": "86a1xD_PfcNA"
      },
      "execution_count": null,
      "outputs": []
    },
    {
      "cell_type": "code",
      "source": [
        "data['easy_apply']"
      ],
      "metadata": {
        "colab": {
          "base_uri": "https://localhost:8080/"
        },
        "id": "PXOpeQbohTsy",
        "outputId": "cb12f0e2-7815-4da6-e113-05306487ef28"
      },
      "execution_count": null,
      "outputs": [
        {
          "output_type": "execute_result",
          "data": {
            "text/plain": [
              "0      TRUE\n",
              "1      TRUE\n",
              "2     False\n",
              "3     False\n",
              "4     False\n",
              "5      TRUE\n",
              "6     False\n",
              "7     False\n",
              "8     False\n",
              "9      TRUE\n",
              "10     TRUE\n",
              "11    False\n",
              "12    False\n",
              "13     TRUE\n",
              "14     TRUE\n",
              "15    False\n",
              "16    False\n",
              "17     TRUE\n",
              "18     TRUE\n",
              "19     TRUE\n",
              "20     TRUE\n",
              "21    False\n",
              "22     TRUE\n",
              "23     TRUE\n",
              "24    False\n",
              "25     TRUE\n",
              "26     TRUE\n",
              "27    False\n",
              "28    False\n",
              "Name: easy_apply, dtype: object"
            ]
          },
          "metadata": {},
          "execution_count": 96
        }
      ]
    },
    {
      "cell_type": "markdown",
      "source": [
        "#rating"
      ],
      "metadata": {
        "id": "ThBd11k7TJCm"
      }
    },
    {
      "cell_type": "code",
      "source": [
        "data['rating']"
      ],
      "metadata": {
        "colab": {
          "base_uri": "https://localhost:8080/"
        },
        "id": "-22GIRIjTIcv",
        "outputId": "20d8eb9e-fef1-4547-cde2-33b19b8b7435"
      },
      "execution_count": null,
      "outputs": [
        {
          "output_type": "execute_result",
          "data": {
            "text/plain": [
              "0     5.4\n",
              "1     3.5\n",
              "2    -1.0\n",
              "3     4.4\n",
              "4     6.4\n",
              "5     1.4\n",
              "6     0.0\n",
              "7    -1.0\n",
              "8     5.4\n",
              "9     7.7\n",
              "10    5.4\n",
              "11    6.7\n",
              "12    0.0\n",
              "13   -1.0\n",
              "14    4.0\n",
              "15    3.0\n",
              "16    4.5\n",
              "17    5.3\n",
              "18    6.7\n",
              "19    3.3\n",
              "20    5.7\n",
              "21    5.0\n",
              "22    7.8\n",
              "23    2.4\n",
              "24   -1.0\n",
              "25    0.0\n",
              "26    NaN\n",
              "27    5.4\n",
              "28    3.4\n",
              "Name: rating, dtype: float64"
            ]
          },
          "metadata": {},
          "execution_count": 97
        }
      ]
    },
    {
      "cell_type": "code",
      "source": [
        "data['rating'] = data['rating'].replace(-1,'np.nan')"
      ],
      "metadata": {
        "id": "KDOSqZj2T7Sv"
      },
      "execution_count": null,
      "outputs": []
    },
    {
      "cell_type": "code",
      "source": [
        "data['rating']"
      ],
      "metadata": {
        "colab": {
          "base_uri": "https://localhost:8080/"
        },
        "id": "uQArIAoaUm6v",
        "outputId": "c32108b5-f6e7-452f-cc51-46aeac1a0088"
      },
      "execution_count": null,
      "outputs": [
        {
          "output_type": "execute_result",
          "data": {
            "text/plain": [
              "0        5.4\n",
              "1        3.5\n",
              "2     np.nan\n",
              "3        4.4\n",
              "4        6.4\n",
              "5        1.4\n",
              "6        0.0\n",
              "7     np.nan\n",
              "8        5.4\n",
              "9        7.7\n",
              "10       5.4\n",
              "11       6.7\n",
              "12       0.0\n",
              "13    np.nan\n",
              "14       4.0\n",
              "15       3.0\n",
              "16       4.5\n",
              "17       5.3\n",
              "18       6.7\n",
              "19       3.3\n",
              "20       5.7\n",
              "21       5.0\n",
              "22       7.8\n",
              "23       2.4\n",
              "24    np.nan\n",
              "25       0.0\n",
              "26       NaN\n",
              "27       5.4\n",
              "28       3.4\n",
              "Name: rating, dtype: object"
            ]
          },
          "metadata": {},
          "execution_count": 99
        }
      ]
    },
    {
      "cell_type": "code",
      "source": [
        "data['rating'] = data['rating'].replace('np.nan', np.nan)"
      ],
      "metadata": {
        "id": "zm9bqhRoj4_1"
      },
      "execution_count": null,
      "outputs": []
    },
    {
      "cell_type": "code",
      "source": [
        "data['rating']"
      ],
      "metadata": {
        "colab": {
          "base_uri": "https://localhost:8080/"
        },
        "id": "rkH3YQLTj7LN",
        "outputId": "c0f3940d-6dfe-4b6f-c010-5af3b547ff3c"
      },
      "execution_count": null,
      "outputs": [
        {
          "output_type": "execute_result",
          "data": {
            "text/plain": [
              "0     5.4\n",
              "1     3.5\n",
              "2     NaN\n",
              "3     4.4\n",
              "4     6.4\n",
              "5     1.4\n",
              "6     0.0\n",
              "7     NaN\n",
              "8     5.4\n",
              "9     7.7\n",
              "10    5.4\n",
              "11    6.7\n",
              "12    0.0\n",
              "13    NaN\n",
              "14    4.0\n",
              "15    3.0\n",
              "16    4.5\n",
              "17    5.3\n",
              "18    6.7\n",
              "19    3.3\n",
              "20    5.7\n",
              "21    5.0\n",
              "22    7.8\n",
              "23    2.4\n",
              "24    NaN\n",
              "25    0.0\n",
              "26    NaN\n",
              "27    5.4\n",
              "28    3.4\n",
              "Name: rating, dtype: float64"
            ]
          },
          "metadata": {},
          "execution_count": 105
        }
      ]
    },
    {
      "cell_type": "code",
      "source": [
        "data['rating'] = data['rating'].apply(lambda x: np.nan if pd.isna(x) else round(x, 1))\n",
        "data['rating'].fillna(data['rating'].mean(), inplace=True)\n",
        "data['rating'] = data['rating'].round(decimals=1)"
      ],
      "metadata": {
        "id": "4MTMm7Ujh7N1"
      },
      "execution_count": null,
      "outputs": []
    },
    {
      "cell_type": "code",
      "source": [
        "data['rating']"
      ],
      "metadata": {
        "colab": {
          "base_uri": "https://localhost:8080/"
        },
        "id": "TiBUvkT0kJBN",
        "outputId": "3df7daf9-b257-4a23-f7b8-5bc698af28e1"
      },
      "execution_count": null,
      "outputs": [
        {
          "output_type": "execute_result",
          "data": {
            "text/plain": [
              "0     5.4\n",
              "1     3.5\n",
              "2     4.3\n",
              "3     4.4\n",
              "4     6.4\n",
              "5     1.4\n",
              "6     0.0\n",
              "7     4.3\n",
              "8     5.4\n",
              "9     7.7\n",
              "10    5.4\n",
              "11    6.7\n",
              "12    0.0\n",
              "13    4.3\n",
              "14    4.0\n",
              "15    3.0\n",
              "16    4.5\n",
              "17    5.3\n",
              "18    6.7\n",
              "19    3.3\n",
              "20    5.7\n",
              "21    5.0\n",
              "22    7.8\n",
              "23    2.4\n",
              "24    4.3\n",
              "25    0.0\n",
              "26    4.3\n",
              "27    5.4\n",
              "28    3.4\n",
              "Name: rating, dtype: float64"
            ]
          },
          "metadata": {},
          "execution_count": 109
        }
      ]
    }
  ]
}